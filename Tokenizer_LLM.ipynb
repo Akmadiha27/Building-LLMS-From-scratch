{
  "nbformat": 4,
  "nbformat_minor": 0,
  "metadata": {
    "colab": {
      "provenance": [],
      "authorship_tag": "ABX9TyPkEvCDGHG6rroz2+3iwYDP",
      "include_colab_link": true
    },
    "kernelspec": {
      "name": "python3",
      "display_name": "Python 3"
    },
    "language_info": {
      "name": "python"
    }
  },
  "cells": [
    {
      "cell_type": "markdown",
      "metadata": {
        "id": "view-in-github",
        "colab_type": "text"
      },
      "source": [
        "<a href=\"https://colab.research.google.com/github/Akmadiha27/Building-LLMS-From-scratch/blob/main/Tokenizer_LLM.ipynb\" target=\"_parent\"><img src=\"https://colab.research.google.com/assets/colab-badge.svg\" alt=\"Open In Colab\"/></a>"
      ]
    },
    {
      "cell_type": "markdown",
      "source": [
        "Reading raw text from the file"
      ],
      "metadata": {
        "id": "0vX63_OwaDI9"
      }
    },
    {
      "cell_type": "code",
      "execution_count": null,
      "metadata": {
        "id": "yIKeeT_5YUpv",
        "colab": {
          "base_uri": "https://localhost:8080/"
        },
        "outputId": "6601756e-e891-4e1f-b343-fd85bcd268b5"
      },
      "outputs": [
        {
          "output_type": "stream",
          "name": "stdout",
          "text": [
            "The number of characters are: 20479\n",
            "I HAD always thought Jack Gisburn rather a cheap genius--though a good fellow enough--so it was no \n"
          ]
        }
      ],
      "source": [
        "with open (\"/content/the-verdict (1).txt\",\"r\",encoding=\"utf-8\") as f:\n",
        "  raw_txt=f.read()\n",
        "print(\"The number of characters are:\", len(raw_txt))\n",
        "print(raw_txt[:99])"
      ]
    },
    {
      "cell_type": "markdown",
      "source": [
        "Split the text to make tokens and remove whitespaces also!!\n",
        "Whitespace -> reduces memory but if code sensible to structure then we need to keep it.\n",
        "Question marks, quotations we need all as seperate tokens"
      ],
      "metadata": {
        "id": "dJefoYuqZ6lL"
      }
    },
    {
      "cell_type": "code",
      "source": [
        "import re\n"
      ],
      "metadata": {
        "id": "9ZOItJqTYsyZ"
      },
      "execution_count": null,
      "outputs": []
    },
    {
      "cell_type": "code",
      "source": [
        "preprocessed=re.split(r'([,.:;?_!\"()\\']|--|\\s)',raw_txt)\n",
        "preprocessed=[item.strip() for item in preprocessed if item.strip()]\n",
        "print(preprocessed[:40])"
      ],
      "metadata": {
        "colab": {
          "base_uri": "https://localhost:8080/"
        },
        "id": "kF7_MUAHdCEi",
        "outputId": "9c79f21b-e407-40bd-d437-0f707b979c7f"
      },
      "execution_count": null,
      "outputs": [
        {
          "output_type": "stream",
          "name": "stdout",
          "text": [
            "['I', 'HAD', 'always', 'thought', 'Jack', 'Gisburn', 'rather', 'a', 'cheap', 'genius', '--', 'though', 'a', 'good', 'fellow', 'enough', '--', 'so', 'it', 'was', 'no', 'great', 'surprise', 'to', 'me', 'to', 'hear', 'that', ',', 'in', 'the', 'height', 'of', 'his', 'glory', ',', 'he', 'had', 'dropped', 'his']\n"
          ]
        }
      ]
    },
    {
      "cell_type": "code",
      "source": [
        "print(len(preprocessed))"
      ],
      "metadata": {
        "colab": {
          "base_uri": "https://localhost:8080/"
        },
        "id": "-MMHkk2ygT5p",
        "outputId": "35ad4251-d767-4532-b781-a4c70f1e96e1"
      },
      "execution_count": null,
      "outputs": [
        {
          "output_type": "stream",
          "name": "stdout",
          "text": [
            "4690\n"
          ]
        }
      ]
    },
    {
      "cell_type": "markdown",
      "source": [
        "Converting tokens into token ids so that they have numerical representation"
      ],
      "metadata": {
        "id": "NodYELhDgdnl"
      }
    },
    {
      "cell_type": "markdown",
      "source": [
        "First we will se how many words are there"
      ],
      "metadata": {
        "id": "jWB3pK98kjQf"
      }
    },
    {
      "cell_type": "code",
      "source": [
        "  all_words=sorted(set(preprocessed))\n",
        "  print(len(all_words))"
      ],
      "metadata": {
        "colab": {
          "base_uri": "https://localhost:8080/"
        },
        "id": "zEhw6GNcgXPW",
        "outputId": "9a273f96-f738-4f64-fbaf-da7f26858f8f"
      },
      "execution_count": null,
      "outputs": [
        {
          "output_type": "stream",
          "name": "stdout",
          "text": [
            "1130\n"
          ]
        }
      ]
    },
    {
      "cell_type": "markdown",
      "source": [
        "Har ek token ko ek number dere ab yahan"
      ],
      "metadata": {
        "id": "eYwonLA3lRmt"
      }
    },
    {
      "cell_type": "code",
      "source": [
        "vocab={token:integer for integer,token in enumerate(all_words)}"
      ],
      "metadata": {
        "id": "8KV2IOhHki4_"
      },
      "execution_count": null,
      "outputs": []
    },
    {
      "cell_type": "code",
      "source": [
        "for i,item in enumerate(vocab.items()):\n",
        "  print(item)\n",
        "  if i>=20:\n",
        "    break"
      ],
      "metadata": {
        "colab": {
          "base_uri": "https://localhost:8080/"
        },
        "id": "56vqWhjflBCW",
        "outputId": "bf3756e7-6f70-40b7-fb5c-a36a3a34f0b4"
      },
      "execution_count": null,
      "outputs": [
        {
          "output_type": "stream",
          "name": "stdout",
          "text": [
            "('!', 0)\n",
            "('\"', 1)\n",
            "(\"'\", 2)\n",
            "('(', 3)\n",
            "(')', 4)\n",
            "(',', 5)\n",
            "('--', 6)\n",
            "('.', 7)\n",
            "(':', 8)\n",
            "(';', 9)\n",
            "('?', 10)\n",
            "('A', 11)\n",
            "('Ah', 12)\n",
            "('Among', 13)\n",
            "('And', 14)\n",
            "('Are', 15)\n",
            "('Arrt', 16)\n",
            "('As', 17)\n",
            "('At', 18)\n",
            "('Be', 19)\n",
            "('Begin', 20)\n"
          ]
        }
      ]
    },
    {
      "cell_type": "markdown",
      "source": [
        "Reverse dictionary to be made so that we have word from id"
      ],
      "metadata": {
        "id": "ah8NMOImmowL"
      }
    },
    {
      "cell_type": "markdown",
      "source": [
        "## **SIMPLE TOKENIZER CLASS IN PYTHON**"
      ],
      "metadata": {
        "id": "n-1VJAZUm54f"
      }
    },
    {
      "cell_type": "code",
      "source": [
        "class SimpleTokenizerV1:\n",
        "  def __init__(self,vocab):\n",
        "    self.str_to_int=vocab\n",
        "    self.int_to_str={i:s for s,i in vocab.items()}\n",
        "  def encode(self,text):\n",
        "    preprocessed=re.split(r'([,.:;?_!\"()\\']|--|\\s)',text)\n",
        "    preprocessed=[item.strip() for item in preprocessed if item.strip()]\n",
        "    ids=[self.str_to_int[s] for s in preprocessed]\n",
        "    return ids\n",
        "  def decode(self,ids):\n",
        "    text=\" \".join([self.int_to_str[i]for i in ids])\n",
        "    #replacing spaces before specified punctuations\n",
        "    text=re.sub(r'\\s+([,.?!\"()\\'])',r'\\1',text)\n",
        "    return text"
      ],
      "metadata": {
        "id": "VlevQ94dlOsk"
      },
      "execution_count": null,
      "outputs": []
    },
    {
      "cell_type": "code",
      "source": [
        "tokenizer = SimpleTokenizerV1(vocab)\n",
        "\n",
        "text = \"\"\"\"It's the last he painted, you know,\"\n",
        "           Mrs. Gisburn said with pardonable pride.\"\"\"\n",
        "ids = tokenizer.encode(text)\n",
        "print(ids)"
      ],
      "metadata": {
        "colab": {
          "base_uri": "https://localhost:8080/"
        },
        "id": "4cQ6nMINpBDZ",
        "outputId": "b42fe706-8f98-4d0d-b6c9-4be8722f7ebe"
      },
      "execution_count": 26,
      "outputs": [
        {
          "output_type": "stream",
          "name": "stdout",
          "text": [
            "[1, 56, 2, 850, 988, 602, 533, 746, 5, 1126, 596, 5, 1, 67, 7, 38, 851, 1108, 754, 793, 7]\n"
          ]
        }
      ]
    },
    {
      "cell_type": "markdown",
      "source": [
        "converting back to original set"
      ],
      "metadata": {
        "id": "XLlrz0uHt-yv"
      }
    },
    {
      "cell_type": "code",
      "source": [
        "tokenizer.decode(ids)"
      ],
      "metadata": {
        "colab": {
          "base_uri": "https://localhost:8080/",
          "height": 53
        },
        "id": "GM80w6sat1z4",
        "outputId": "40233538-631a-4a3e-9452-1dab1434ded0"
      },
      "execution_count": 27,
      "outputs": [
        {
          "output_type": "execute_result",
          "data": {
            "text/plain": [
              "'\" It\\' s the last he painted, you know,\" Mrs. Gisburn said with pardonable pride.'"
            ],
            "application/vnd.google.colaboratory.intrinsic+json": {
              "type": "string"
            }
          },
          "metadata": {},
          "execution_count": 27
        }
      ]
    },
    {
      "cell_type": "markdown",
      "source": [
        "*Note that if particular text is not there in the vocab then it gives error*"
      ],
      "metadata": {
        "id": "eE9WCTOEuF4e"
      }
    },
    {
      "cell_type": "markdown",
      "source": [
        "## **ADDING SPECIAL CONTEXT TOKENS**"
      ],
      "metadata": {
        "id": "9K2kqQqbwAWe"
      }
    },
    {
      "cell_type": "code",
      "source": [
        "all_tokens=sorted(list(set(preprocessed)))\n",
        "all_tokens.extend([\"|<endoftext>|\",\"|<unk>|\"])\n",
        "\n",
        "vocab={token:integer for integer,token in enumerate(all_tokens)}"
      ],
      "metadata": {
        "id": "Kmo040Nlv_Zw"
      },
      "execution_count": 29,
      "outputs": []
    },
    {
      "cell_type": "code",
      "source": [
        "len(vocab.items())"
      ],
      "metadata": {
        "colab": {
          "base_uri": "https://localhost:8080/"
        },
        "id": "mkcRsai7uBy1",
        "outputId": "c236fe56-967e-4635-f81c-deb8675090fa"
      },
      "execution_count": 30,
      "outputs": [
        {
          "output_type": "execute_result",
          "data": {
            "text/plain": [
              "1132"
            ]
          },
          "metadata": {},
          "execution_count": 30
        }
      ]
    }
  ]
}